{
 "cells": [
  {
   "cell_type": "code",
   "execution_count": 1,
   "source": [
    "from nltk.tokenize import word_tokenize\n",
    "import pandas as pd"
   ],
   "outputs": [],
   "metadata": {}
  },
  {
   "cell_type": "code",
   "execution_count": 3,
   "source": [
    "result = pd.read_csv('final_df.csv')"
   ],
   "outputs": [],
   "metadata": {}
  },
  {
   "cell_type": "code",
   "execution_count": 32,
   "source": [
    "# Program to measure the similarity between\n",
    "# two sentences using cosine similarity.\n",
    "\n",
    "# name of course, number of results\n",
    "def search(name, top=10):\n",
    "    lst = []\n",
    "    high = 0\n",
    "    output = []\n",
    "    Y = name\n",
    "    Y_list = word_tokenize(Y)\n",
    "    for z in range(len(result['Title'])):\n",
    "        \n",
    "        X = str(result['Title'][z])\n",
    "        \n",
    "\n",
    "        # tokenization\n",
    "        X_list = word_tokenize(X)\n",
    "        \n",
    "\n",
    "        # sw contains the list of stopwords\n",
    "        sw = ['i', 'me', 'my', 'myself', 'we', 'our', 'ours', 'ourselves', 'you', \"you're\", \"you've\", \"you'll\", \"you'd\", 'your', 'yours', 'yourself', 'yourselves', 'he', 'him', 'his', 'himself', 'she', \"she's\", 'her', 'hers', 'herself', 'it', \"it's\", 'its', 'itself', 'they', 'them', 'their', 'theirs', 'themselves', 'what', 'which', 'who', 'whom', 'this', 'that', \"that'll\", 'these', 'those', 'am', 'is', 'are', 'was', 'were', 'be', 'been', 'being', 'have', 'has', 'had', 'having', 'do', 'does', 'did', 'doing', 'a', 'an', 'the', 'and', 'but', 'if', 'or', 'because', 'as', 'until', 'while', 'of', 'at', 'by', 'for', 'with', 'about', 'against', 'between', 'into', 'through', 'during', 'before', 'after', 'above', 'below', 'to', 'from', 'up', 'down', 'in', 'out', 'on', 'off', 'over', 'under', 'again', 'further', 'then', 'once', 'here', 'there', 'when', 'where', 'why', 'how', 'all', 'any', 'both', 'each', 'few', 'more', 'most', 'other', 'some', 'such', 'no', 'nor', 'not', 'only', 'own', 'same', 'so', 'than', 'too', 'very', 's', 't', 'can', 'will', 'just', 'don', \"don't\", 'should', \"should've\", 'now', 'd', 'll', 'm', 'o', 're', 've', 'y', 'ain', 'aren', \"aren't\", 'couldn', \"couldn't\", 'didn', \"didn't\", 'doesn', \"doesn't\", 'hadn', \"hadn't\", 'hasn', \"hasn't\", 'haven', \"haven't\", 'isn', \"isn't\", 'ma', 'mightn', \"mightn't\", 'mustn', \"mustn't\", 'needn', \"needn't\", 'shan', \"shan't\", 'shouldn', \"shouldn't\", 'wasn', \"wasn't\", 'weren', \"weren't\", 'won', \"won't\", 'wouldn', \"wouldn't\"]\n",
    "        l1 =[];l2 =[]\n",
    "\n",
    "        # remove stop words from the string\n",
    "        X_set = {w for w in X_list if not w in sw}\n",
    "        Y_set = {w for w in Y_list if not w in sw}\n",
    "\n",
    "        # form a set containing keywords of both strings\n",
    "        rvector = X_set.union(Y_set)\n",
    "        for w in rvector:\n",
    "            if w in X_set: l1.append(1) # create a vector\n",
    "            else: l1.append(0)\n",
    "            if w in Y_set: l2.append(1)\n",
    "            else: l2.append(0)\n",
    "        c = 0\n",
    "\n",
    "        # cosine formula\n",
    "        for i in range(len(rvector)):\n",
    "                c+= l1[i]*l2[i]\n",
    "        cosine = c / float((sum(l1)*sum(l2))**0.5)\n",
    "        lst.append(cosine)\n",
    "    \n",
    "    lst1= sorted(((value, index) for index, value in enumerate(lst)), reverse=True)\n",
    "    for m in range(top):\n",
    "        #course_title,  course URL, company, stars, enrol, description\n",
    "        temp=[]\n",
    "        temp.append(result['Title'][lst1[m][1]])\n",
    "        temp.append(result['Link'][lst1[m][1]])\n",
    "        temp.append(result['company'][lst1[m][1]])\n",
    "        temp.append(result['Stars'][lst1[m][1]])\n",
    "        temp.append(result['Enrollment'][lst1[m][1]])\n",
    "        temp.append(result['Summary'][lst1[m][1]])\n",
    "        output.append(temp)\n",
    "\n",
    "    return (output)\n"
   ],
   "outputs": [],
   "metadata": {}
  },
  {
   "cell_type": "code",
   "execution_count": 33,
   "source": [
    "search('python course')"
   ],
   "outputs": [
    {
     "output_type": "execute_result",
     "data": {
      "text/plain": [
       "[['Crypt0currency course',\n",
       "  'https://www.udemy.com/course/crypt0currency-course/',\n",
       "  'Udemy',\n",
       "  '4.4',\n",
       "  '9',\n",
       "  'A whole bunch of different crypto investment strategies that can be used alone or all together!'],\n",
       " ['Best python course for beginners ( Basic + Advanced )',\n",
       "  'https://www.udemy.com/course/best-python-course-for-beginners-basic-advanced/',\n",
       "  'Udemy',\n",
       "  '3.7',\n",
       "  '1585',\n",
       "  \"Build 11 Projects and go from Beginner to Pro in Python with the World's Most Fun Project-Based Python Course!\"],\n",
       " ['Horror photomanipulation course',\n",
       "  'https://www.udemy.com/course/horror-girl-photomanipulation-course/',\n",
       "  'Udemy',\n",
       "  '0.0',\n",
       "  '3',\n",
       "  'learn how to make a photomanipulation'],\n",
       " ['Draw.io basic course',\n",
       "  'https://www.udemy.com/course/draw-io-basic-course/',\n",
       "  'Udemy',\n",
       "  '4.1',\n",
       "  '4697',\n",
       "  'Everything you need to create your first projects in draw.io'],\n",
       " ['Ultimate JavaScript course',\n",
       "  'https://www.udemy.com/course/ultimate-javascript-course/',\n",
       "  'Udemy',\n",
       "  '3.6',\n",
       "  '7828',\n",
       "  'Complete JavaScript Course: Go from beginne to advanced'],\n",
       " ['New course mode ine-era|e时代的新课堂…',\n",
       "  'https://www.edx.org/course/new-course-mode-in-e-erae',\n",
       "  'edX',\n",
       "  'not available',\n",
       "  'not-mentioned',\n",
       "  'not available'],\n",
       " ['e-Learning course onRailway Financing…',\n",
       "  'https://www.edx.org/course/e-learning-course-on-railway-financing',\n",
       "  'edX',\n",
       "  'not available',\n",
       "  'not-mentioned',\n",
       "  'not available'],\n",
       " ['Creando simulaciones con python',\n",
       "  'https://www.coursera.org/learn/simulaciones-python',\n",
       "  'Coursera',\n",
       "  'not available',\n",
       "  'not available',\n",
       "  'not available'],\n",
       " ['Complete course on trademark search',\n",
       "  'https://www.udemy.com/course/complete-course-on-trademark-search/',\n",
       "  'Udemy',\n",
       "  '4.8',\n",
       "  '8042',\n",
       "  'Discover whether your trademark can be used and registered while protecting your business from trademark conflicts'],\n",
       " ['How to create an online course',\n",
       "  'https://www.udemy.com/course/learn-to-create-online-courses/',\n",
       "  'Udemy',\n",
       "  '3.9',\n",
       "  '100',\n",
       "  'Learn a step by step process on how to create online courses. Making passive income whilst delivering quality content.']]"
      ]
     },
     "metadata": {},
     "execution_count": 33
    }
   ],
   "metadata": {}
  }
 ],
 "metadata": {
  "orig_nbformat": 4,
  "language_info": {
   "name": "python",
   "version": "3.9.0",
   "mimetype": "text/x-python",
   "codemirror_mode": {
    "name": "ipython",
    "version": 3
   },
   "pygments_lexer": "ipython3",
   "nbconvert_exporter": "python",
   "file_extension": ".py"
  },
  "kernelspec": {
   "name": "python3",
   "display_name": "Python 3.9.0 64-bit"
  },
  "interpreter": {
   "hash": "aee8b7b246df8f9039afb4144a1f6fd8d2ca17a180786b69acc140d282b71a49"
  }
 },
 "nbformat": 4,
 "nbformat_minor": 2
}