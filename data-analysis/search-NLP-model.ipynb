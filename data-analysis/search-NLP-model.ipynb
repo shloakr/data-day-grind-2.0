{
 "cells": [
  {
   "cell_type": "code",
   "execution_count": 1,
   "metadata": {},
   "outputs": [],
   "source": [
    "from nltk.tokenize import word_tokenize\n",
    "import pandas as pd"
   ]
  },
  {
   "cell_type": "code",
   "execution_count": 3,
   "metadata": {},
   "outputs": [],
   "source": [
    "result = pd.read_csv('final_df.csv')"
   ]
  },
  {
   "cell_type": "code",
   "execution_count": 32,
   "metadata": {},
   "outputs": [],
   "source": [
    "# Program to measure the similarity between\n",
    "# two sentences using cosine similarity.\n",
    "\n",
    "# name of course, number of results\n",
    "def search(name, top=10):\n",
    "    lst = []\n",
    "    high = 0\n",
    "    output = []\n",
    "    Y = name\n",
    "    Y_list = word_tokenize(Y)\n",
    "    for z in range(len(result['Title'])):\n",
    "        \n",
    "        X = str(result['Title'][z])\n",
    "        \n",
    "\n",
    "        # tokenization\n",
    "        X_list = word_tokenize(X)\n",
    "        \n",
    "\n",
    "        # sw contains the list of stopwords\n",
    "        sw = ['i', 'me', 'my', 'myself', 'we', 'our', 'ours', 'ourselves', 'you', \"you're\", \"you've\", \"you'll\", \"you'd\", 'your', 'yours', 'yourself', 'yourselves', 'he', 'him', 'his', 'himself', 'she', \"she's\", 'her', 'hers', 'herself', 'it', \"it's\", 'its', 'itself', 'they', 'them', 'their', 'theirs', 'themselves', 'what', 'which', 'who', 'whom', 'this', 'that', \"that'll\", 'these', 'those', 'am', 'is', 'are', 'was', 'were', 'be', 'been', 'being', 'have', 'has', 'had', 'having', 'do', 'does', 'did', 'doing', 'a', 'an', 'the', 'and', 'but', 'if', 'or', 'because', 'as', 'until', 'while', 'of', 'at', 'by', 'for', 'with', 'about', 'against', 'between', 'into', 'through', 'during', 'before', 'after', 'above', 'below', 'to', 'from', 'up', 'down', 'in', 'out', 'on', 'off', 'over', 'under', 'again', 'further', 'then', 'once', 'here', 'there', 'when', 'where', 'why', 'how', 'all', 'any', 'both', 'each', 'few', 'more', 'most', 'other', 'some', 'such', 'no', 'nor', 'not', 'only', 'own', 'same', 'so', 'than', 'too', 'very', 's', 't', 'can', 'will', 'just', 'don', \"don't\", 'should', \"should've\", 'now', 'd', 'll', 'm', 'o', 're', 've', 'y', 'ain', 'aren', \"aren't\", 'couldn', \"couldn't\", 'didn', \"didn't\", 'doesn', \"doesn't\", 'hadn', \"hadn't\", 'hasn', \"hasn't\", 'haven', \"haven't\", 'isn', \"isn't\", 'ma', 'mightn', \"mightn't\", 'mustn', \"mustn't\", 'needn', \"needn't\", 'shan', \"shan't\", 'shouldn', \"shouldn't\", 'wasn', \"wasn't\", 'weren', \"weren't\", 'won', \"won't\", 'wouldn', \"wouldn't\"]\n",
    "        l1 =[];l2 =[]\n",
    "\n",
    "        # remove stop words from the string\n",
    "        X_set = {w for w in X_list if not w in sw}\n",
    "        Y_set = {w for w in Y_list if not w in sw}\n",
    "\n",
    "        # form a set containing keywords of both strings\n",
    "        rvector = X_set.union(Y_set)\n",
    "        for w in rvector:\n",
    "            if w in X_set: l1.append(1) # create a vector\n",
    "            else: l1.append(0)\n",
    "            if w in Y_set: l2.append(1)\n",
    "            else: l2.append(0)\n",
    "        c = 0\n",
    "\n",
    "        # cosine formula\n",
    "        for i in range(len(rvector)):\n",
    "                c+= l1[i]*l2[i]\n",
    "        cosine = c / float((sum(l1)*sum(l2))**0.5)\n",
    "        lst.append(cosine)\n",
    "    \n",
    "    lst1= sorted(((value, index) for index, value in enumerate(lst)), reverse=True)\n",
    "    \n",
    "    for m in range(top):\n",
    "        #course_title,  course URL, company, stars, enrol, description\n",
    "        temp=[]\n",
    "        temp.append(result['Title'][lst1[m][1]])\n",
    "        temp.append(result['Link'][lst1[m][1]])\n",
    "        temp.append(result['company'][lst1[m][1]])\n",
    "        temp.append(result['Stars'][lst1[m][1]])\n",
    "        temp.append(result['Enrollment'][lst1[m][1]])\n",
    "        temp.append(result['Summary'][lst1[m][1]])\n",
    "        output.append(temp)\n",
    "\n",
    "    return (output)\n"
   ]
  },
  {
   "cell_type": "code",
   "execution_count": 35,
   "metadata": {},
   "outputs": [
    {
     "data": {
      "text/plain": [
       "[['Cryptocurrency',\n",
       "  'https://www.udemy.com/course/cryptocurrencyeducation/',\n",
       "  'Udemy',\n",
       "  '4.1',\n",
       "  '1119',\n",
       "  'Education for Everyone'],\n",
       " ['How to mine Cryptocurrency course, Bitcoin',\n",
       "  'https://www.udemy.com/course/how-to-mine-cryptocurrency-course-bitcoin/',\n",
       "  'Udemy',\n",
       "  '0.0',\n",
       "  '8',\n",
       "  'Learn all about cryptocurrencies'],\n",
       " ['Crash course in Blockchain, Cryptocurrency, Bitcoin etc',\n",
       "  'https://www.udemy.com/course/crash-course-in-blockchain-cryptocurrency-bitcoin-etc/',\n",
       "  'Udemy',\n",
       "  '4.0',\n",
       "  '3',\n",
       "  'Learn the key elements of blockchain, Cryptocurrency, Bitcoin in this video course.'],\n",
       " ['Litecoin as a Cryptocurrency',\n",
       "  'https://www.udemy.com/course/litecoin-as-a-cryptocurrency/',\n",
       "  'Udemy',\n",
       "  '2.8',\n",
       "  '6417',\n",
       "  'Through this course you shall gain a strong understanding about Litecoin Cryptocurrency fundamentals.'],\n",
       " ['Introduction to Cryptocurrency',\n",
       "  'https://www.udemy.com/course/introduction-to-cryptocurrency-c/',\n",
       "  'Udemy',\n",
       "  '3.2',\n",
       "  '9183',\n",
       "  'Through this course you shall gain a strong understanding about Cryptocurrency fundamentals.'],\n",
       " ['Ethereum as a Cryptocurrency',\n",
       "  'https://www.udemy.com/course/ethereum-as-a-cryptocurrency/',\n",
       "  'Udemy',\n",
       "  '4.1',\n",
       "  '6072',\n",
       "  'Through this course you shall gain a strong understanding about Ethereum Cryptocurrency fundamentals.'],\n",
       " ['Crypt0currency course',\n",
       "  'https://www.udemy.com/course/crypt0currency-course/',\n",
       "  'Udemy',\n",
       "  '4.4',\n",
       "  '9',\n",
       "  'A whole bunch of different crypto investment strategies that can be used alone or all together!'],\n",
       " ['Blockchain and Cryptocurrency Explained',\n",
       "  'https://www.coursera.org/learn/crypto-finance',\n",
       "  'Coursera',\n",
       "  'not available',\n",
       "  'not available',\n",
       "  'not available'],\n",
       " ['Bitcoin and Cryptocurrency Technologies',\n",
       "  'https://www.coursera.org/learn/cryptocurrency',\n",
       "  'Coursera',\n",
       "  'not available',\n",
       "  'not available',\n",
       "  'not available'],\n",
       " ['Cryptocurrency Wallets 2020',\n",
       "  'https://www.udemy.com/course/cryptocurrency-wallets/',\n",
       "  'Udemy',\n",
       "  '3.3',\n",
       "  '2606',\n",
       "  'Store and secure your Cryptocurrency the right way']]"
      ]
     },
     "execution_count": 35,
     "metadata": {},
     "output_type": "execute_result"
    }
   ],
   "source": [
    "search('Cryptocurrency course')"
   ]
  },
  {
   "cell_type": "code",
   "execution_count": null,
   "metadata": {},
   "outputs": [],
   "source": []
  }
 ],
 "metadata": {
  "interpreter": {
   "hash": "aee8b7b246df8f9039afb4144a1f6fd8d2ca17a180786b69acc140d282b71a49"
  },
  "kernelspec": {
   "display_name": "Python 3.9.0 64-bit",
   "name": "python3"
  },
  "language_info": {
   "codemirror_mode": {
    "name": "ipython",
    "version": 3
   },
   "file_extension": ".py",
   "mimetype": "text/x-python",
   "name": "python",
   "nbconvert_exporter": "python",
   "pygments_lexer": "ipython3",
   "version": "3.9.0"
  },
  "orig_nbformat": 4
 },
 "nbformat": 4,
 "nbformat_minor": 2
}
